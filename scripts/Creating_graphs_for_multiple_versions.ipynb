{
  "nbformat": 4,
  "nbformat_minor": 0,
  "metadata": {
    "colab": {
      "provenance": []
    },
    "kernelspec": {
      "name": "python3",
      "display_name": "Python 3"
    },
    "language_info": {
      "name": "python"
    }
  },
  "cells": [
    {
      "cell_type": "code",
      "execution_count": null,
      "metadata": {
        "id": "goH556nFEZRo"
      },
      "outputs": [],
      "source": [
        "pip install neo4j"
      ]
    },
    {
      "cell_type": "code",
      "source": [
        "pip install pandas"
      ],
      "metadata": {
        "id": "AjFDCJOQEgjY"
      },
      "execution_count": null,
      "outputs": []
    },
    {
      "cell_type": "code",
      "source": [
        "import pandas as pd\n",
        "import os"
      ],
      "metadata": {
        "id": "00m4ODFzEiY5"
      },
      "execution_count": 34,
      "outputs": []
    },
    {
      "cell_type": "code",
      "source": [
        "from neo4j import GraphDatabase\n",
        "\n",
        "# Replace these with your actual AuraDB connection details\n",
        "uri = \"neo4j+s://b480f347.databases.neo4j.io\"\n",
        "username = \"neo4j\"\n",
        "password = \"8erltLOKbpg68_LbDjbZtsHQC-nAKV-advvPvHLdpII\"\n",
        "\n",
        "driver = GraphDatabase.driver(uri, auth=(username,password))\n"
      ],
      "metadata": {
        "id": "q_nhO94FEl3w"
      },
      "execution_count": 35,
      "outputs": []
    },
    {
      "cell_type": "code",
      "source": [
        "from google.colab import drive  # Mounting drive to Google Colab. Ignore if not using Colab\n",
        "drive.mount('/content/drive')"
      ],
      "metadata": {
        "id": "LCv2RvhLEp8W"
      },
      "execution_count": null,
      "outputs": []
    },
    {
      "cell_type": "code",
      "source": [
        "def create_nodes(tx, data, label, identifier_key):\n",
        "    for index, row in data.iterrows():\n",
        "        node_data = dict(row)\n",
        "        tx.run(\n",
        "            f\"CREATE (node:{label} {{{identifier_key}: $value}})\",\n",
        "            value=node_data[identifier_key]\n",
        "        )\n",
        "\n",
        "def create_nodes_packages(tx, data, label, identifier_key):\n",
        "    for index, row in data.iterrows():\n",
        "        node_data = dict(row)\n",
        "        # Create the node with properties from the CSV columns\n",
        "        query = (\n",
        "            f\"CREATE (node:{label} {{\"\n",
        "            f\"{identifier_key}: $value, \"\n",
        "            f\"SPDXID: $SPDXID, \"\n",
        "            f\"PackageName: $PackageName, \"\n",
        "            f\"PackageDownloadLocation: $PackageDownloadLocation, \"\n",
        "            f\"FilesAnalyzed: $FilesAnalyzed, \"\n",
        "            f\"PackageLicenseConcluded: $PackageLicenseConcluded, \"\n",
        "            f\"PackageLicenseDeclared: $PackageLicenseDeclared, \"\n",
        "            f\"PackageCopyrightText: $PackageCopyrightText, \"\n",
        "            f\"PackageChecksum: $PackageChecksum\"\n",
        "            # Add more properties as needed, and remove the trailing comma\n",
        "            f\"}})\"\n",
        "        )\n",
        "        tx.run(query, {\n",
        "            'value': node_data[identifier_key],\n",
        "            'SPDXID': node_data['SPDXID'],\n",
        "            'PackageName': node_data['PackageName'],\n",
        "            'PackageDownloadLocation': node_data['PackageDownloadLocation'],\n",
        "            'FilesAnalyzed': node_data['FilesAnalyzed'],\n",
        "            'PackageLicenseConcluded': node_data['PackageLicenseConcluded'],\n",
        "            'PackageLicenseDeclared': node_data['PackageLicenseDeclared'],\n",
        "            'PackageCopyrightText': node_data['PackageCopyrightText'],\n",
        "            'PackageChecksum': node_data['PackageChecksum']\n",
        "            # Add more property values as needed\n",
        "        })\n",
        "\n",
        "def create_nodes_spdx(tx, data, label, identifier_key):\n",
        "    for index, row in data.iterrows():\n",
        "        node_data = dict(row)\n",
        "        # Create the node with properties from the CSV columns\n",
        "        query = (\n",
        "            f\"CREATE (node:{label} {{\"\n",
        "            f\"{identifier_key}: $value, \"\n",
        "            f\"SPDXID: $SPDXID, \"\n",
        "            f\"FileName: $FileName, \"\n",
        "            f\"FileChecksum: $FileChecksum, \"\n",
        "            f\"LicenseConcluded: $LicenseConcluded, \"\n",
        "            f\"LicenseInfoInFile: $LicenseInfoInFile, \"\n",
        "            f\"FileCopyrightText: $FileCopyrightText\"\n",
        "            # Add more properties as needed, and remove the trailing comma\n",
        "            f\"}})\"\n",
        "        )\n",
        "        tx.run(query, {\n",
        "            'value': node_data[identifier_key],\n",
        "            'SPDXID': node_data['SPDXID'],\n",
        "            'FileName': node_data['FileName'],\n",
        "            'FileChecksum': node_data['FileChecksum'],\n",
        "            'LicenseConcluded': node_data['LicenseConcluded'],\n",
        "            'LicenseInfoInFile': node_data['LicenseInfoInFile'],\n",
        "            'FileCopyrightText': node_data['FileCopyrightText']\n",
        "            # Add more property values as needed\n",
        "        })"
      ],
      "metadata": {
        "id": "13mvJH-IGTvq"
      },
      "execution_count": 36,
      "outputs": []
    },
    {
      "cell_type": "code",
      "source": [
        "# Specify the root directory containing subfolders\n",
        "root_directory = '/content/drive/MyDrive/Cloud Computing EC528/test'\n",
        "\n",
        "# Iterate through subfolders\n",
        "for folder_name in os.listdir(root_directory):\n",
        "    folder_path = os.path.join(root_directory, folder_name)\n",
        "\n",
        "    if os.path.isdir(folder_path):\n",
        "        print(f\"Processing folder: {folder_name}\")\n",
        "\n",
        "        driver = GraphDatabase.driver(uri, auth=(username,password))\n",
        "\n",
        "        # Load the CSV files for this folder\n",
        "        packages_data = pd.read_csv(os.path.join(folder_path, f'{folder_name}_packages_output.csv'))\n",
        "        spdx_data = pd.read_csv(os.path.join(folder_path, f'{folder_name}_spdx_output.csv'))\n",
        "        relationships_data = pd.read_csv(os.path.join(folder_path, f'{folder_name}_relationships_output.csv'))\n",
        "\n",
        "        \"\"\"\n",
        "        # Create a node for the folder and connect all nodes to it\n",
        "        with driver.session() as session:\n",
        "            print(f\"Creating folder node for: {folder_name}\")\n",
        "            session.run(\"CREATE (folder:Folder {name: $folder_name})\", folder_name=folder_name)\n",
        "        \"\"\"\n",
        "        \"\"\"\n",
        "        with driver.session() as session:\n",
        "            # Connect all nodes in this subfolder to the folder\n",
        "            for label, identifier_key in [('SPDXNode', 'SPDXID'), ('PackageNode', 'SPDXID')]:\n",
        "                print(f\"Connecting {label} nodes to folder node for: {folder_name}\")\n",
        "                session.run(\n",
        "                    f\"MATCH (node:{label}) WHERE NOT node:Folder \"\n",
        "                    \"WITH node \"\n",
        "                    \"MATCH (folder:Folder {name: $folder_name}) \"\n",
        "                    \"CREATE (node)-[:BELONGS_TO]->(folder)\",\n",
        "                    label=label,\n",
        "                    folder_name=folder_name\n",
        "                )\n",
        "        \"\"\"\n",
        "\n",
        "        with driver.session() as session:\n",
        "            # Create nodes and relationships for this subfolder\n",
        "            print(f\"Creating nodes and relationships for: {folder_name}\")\n",
        "            session.write_transaction(create_nodes, spdx_data, 'SPDXNode', 'SPDXID')\n",
        "            session.write_transaction(create_nodes, packages_data, 'PackageNode', 'SPDXID')\n",
        "\n",
        "            for index, row in relationships_data.iterrows():\n",
        "                relationship_data = dict(row)\n",
        "                session.run(\n",
        "                    \"MATCH (source {SPDXID: $source}), (target {SPDXID: $target}) \"\n",
        "                    \"CREATE (source)-[:RELATIONSHIP_TYPE {type: $types}]->(target)\",\n",
        "                    source=relationship_data['RelationshipType'],\n",
        "                    target=relationship_data['Target'],\n",
        "                    types=relationship_data['Source']\n",
        "                )\n",
        "\n",
        "        # Create a node for the folder and connect all nodes to it\n",
        "        with driver.session() as session:\n",
        "            print(f\"Creating folder node for: {folder_name}\")\n",
        "            session.run(\"CREATE (folder:Folder {name: $folder_name})\", folder_name=folder_name)\n",
        "\n",
        "        with driver.session() as session:\n",
        "            # Connect all nodes in this subfolder to the folder\n",
        "            for label, identifier_key in [('SPDXNode', 'SPDXID'), ('PackageNode', 'SPDXID')]:\n",
        "                print(f\"Connecting {label} nodes to folder node for: {folder_name}\")\n",
        "                session.run(\n",
        "                    f\"MATCH (node:{label}) WHERE NOT node:Folder \"\n",
        "                    \"WITH node \"\n",
        "                    \"MATCH (folder:Folder {name: $folder_name}) \"\n",
        "                    \"CREATE (node)-[:BELONGS_TO]->(folder)\",\n",
        "                    label=label,\n",
        "                    folder_name=folder_name\n",
        "                )\n",
        "\n",
        "\n"
      ],
      "metadata": {
        "colab": {
          "base_uri": "https://localhost:8080/"
        },
        "id": "VoAvCLaQGjK1",
        "outputId": "0f0fbe5f-9ae5-478a-f984-3400e6995690"
      },
      "execution_count": 42,
      "outputs": [
        {
          "output_type": "stream",
          "name": "stdout",
          "text": [
            "Processing folder: v1.18.20\n",
            "Creating nodes and relationships for: v1.18.20\n"
          ]
        },
        {
          "output_type": "stream",
          "name": "stderr",
          "text": [
            "<ipython-input-42-10728350d05d>:42: DeprecationWarning: write_transaction has been renamed to execute_write\n",
            "  session.write_transaction(create_nodes, spdx_data, 'SPDXNode', 'SPDXID')\n",
            "<ipython-input-42-10728350d05d>:43: DeprecationWarning: write_transaction has been renamed to execute_write\n",
            "  session.write_transaction(create_nodes, packages_data, 'PackageNode', 'SPDXID')\n"
          ]
        },
        {
          "output_type": "stream",
          "name": "stdout",
          "text": [
            "Creating folder node for: v1.18.20\n",
            "Connecting SPDXNode nodes to folder node for: v1.18.20\n",
            "Connecting PackageNode nodes to folder node for: v1.18.20\n",
            "Processing folder: v1.19.13\n",
            "Creating nodes and relationships for: v1.19.13\n"
          ]
        },
        {
          "output_type": "stream",
          "name": "stderr",
          "text": [
            "<ipython-input-42-10728350d05d>:42: DeprecationWarning: write_transaction has been renamed to execute_write\n",
            "  session.write_transaction(create_nodes, spdx_data, 'SPDXNode', 'SPDXID')\n",
            "<ipython-input-42-10728350d05d>:43: DeprecationWarning: write_transaction has been renamed to execute_write\n",
            "  session.write_transaction(create_nodes, packages_data, 'PackageNode', 'SPDXID')\n"
          ]
        },
        {
          "output_type": "stream",
          "name": "stdout",
          "text": [
            "Creating folder node for: v1.19.13\n",
            "Connecting SPDXNode nodes to folder node for: v1.19.13\n",
            "Connecting PackageNode nodes to folder node for: v1.19.13\n",
            "Processing folder: v1.19.12\n",
            "Creating nodes and relationships for: v1.19.12\n"
          ]
        },
        {
          "output_type": "stream",
          "name": "stderr",
          "text": [
            "<ipython-input-42-10728350d05d>:42: DeprecationWarning: write_transaction has been renamed to execute_write\n",
            "  session.write_transaction(create_nodes, spdx_data, 'SPDXNode', 'SPDXID')\n",
            "<ipython-input-42-10728350d05d>:43: DeprecationWarning: write_transaction has been renamed to execute_write\n",
            "  session.write_transaction(create_nodes, packages_data, 'PackageNode', 'SPDXID')\n"
          ]
        },
        {
          "output_type": "stream",
          "name": "stdout",
          "text": [
            "Creating folder node for: v1.19.12\n",
            "Connecting SPDXNode nodes to folder node for: v1.19.12\n",
            "Connecting PackageNode nodes to folder node for: v1.19.12\n"
          ]
        }
      ]
    }
  ]
}