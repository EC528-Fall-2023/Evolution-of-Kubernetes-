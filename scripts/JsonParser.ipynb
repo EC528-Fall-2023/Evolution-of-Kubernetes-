{
  "nbformat": 4,
  "nbformat_minor": 0,
  "metadata": {
    "colab": {
      "provenance": []
    },
    "kernelspec": {
      "name": "python3",
      "display_name": "Python 3"
    },
    "language_info": {
      "name": "python"
    }
  },
  "cells": [
    {
      "cell_type": "code",
      "execution_count": 2,
      "metadata": {
        "id": "OJst4VQFmhCK"
      },
      "outputs": [],
      "source": [
        "# This is the code to parse the .spdx file for the SBOMs\n",
        "# It creates 3 .csv files\n",
        "# spdx_output.csv: Files independent of packages\n",
        "# relationships_output.csv: Relationship between differentr packages\n",
        "# packages_output.csv: Contains different packages\n",
        "\n",
        "#works from 1.15 to recent\n",
        "\n",
        "import csv\n",
        "import glob\n",
        "import pandas as pd\n",
        "import linecache\n",
        "\n",
        "# Define a variable to track the current entry\n",
        "\n",
        "def cleanup(unwantedTerms,line):\n",
        "  for i in unwantedTerms:\n",
        "    line = line.replace(i,\"\")\n",
        "  return line\n"
      ]
    },
    {
      "cell_type": "code",
      "source": [
        "#function to fill in the lists that will later be used to make our 3 csvs\n",
        "def fill_lists(spdx_file_path):\n",
        "  with open(spdx_file_path,'r') as spdx_file:\n",
        "      #counter to keep track of how many dependencies a version has\n",
        "      #iterate line by line and use \"name\" as indicator of\n",
        "      counter = 0\n",
        "      for line_num,line in enumerate(spdx_file):\n",
        "        line = line.strip()\n",
        "        if line.startswith('\"name\"'):\n",
        "          #cleanup symbols we do not need\n",
        "          line = cleanup(['\"name\":',',','\"','\"',' '],line)\n",
        "          #filter out two exceptions and append\n",
        "          if (line[0:10] == \"kubernetes\"): versionName = line\n",
        "          if (line[0:10] != \"kubernetes\" and line[0:4] != \"SBOM\"):\n",
        "            dependencyName.append(line)\n",
        "            #getting spdxID\n",
        "            #print(linecache.getline(spdx_file_path,count))\n",
        "            spdxID.append(cleanup(['\"SPDXID\":',',','\"','\"',' '],linecache.getline(spdx_file_path,line_num)))\n",
        "            #counter keeping track of total amt of dependencies\n",
        "            counter+=1\n",
        "        if line.startswith('\"versionInfo\"'):\n",
        "          line = cleanup(['\"versionInfo\":',',','\"','\"',' '],line)\n",
        "          #filter out exceptions\n",
        "          if (line != \"\"):dependencyVersion.append(line)\n",
        "      for count in range(counter):\n",
        "        versionNameList.append(versionName)"
      ],
      "metadata": {
        "id": "vkbiWWhA6Mk9"
      },
      "execution_count": 2,
      "outputs": []
    },
    {
      "cell_type": "code",
      "source": [
        "def make_csv_dependencies(file_path):\n",
        "  #csv path for dependencies\n",
        "\n",
        "  #writing into csv\n",
        "  with open(file_path,'w') as csv_file:\n",
        "    fieldnames = ['dependencyName-Version','dependencyName','dependencyVersion','SPDXID']\n",
        "    csv_writer = csv.DictWriter(csv_file,fieldnames=fieldnames)\n",
        "    csv_writer.writeheader()\n",
        "    for count in range(len(dependencyName)):\n",
        "        csv_writer.writerow({\n",
        "            'dependencyName-Version': dependencyName[count] + '-' + dependencyVersion[count],\n",
        "            'dependencyName': dependencyName[count],\n",
        "            'dependencyVersion': dependencyVersion[count],\n",
        "            'SPDXID': spdxID[count]\n",
        "            })"
      ],
      "metadata": {
        "id": "4A_1B3ft6RLn"
      },
      "execution_count": 3,
      "outputs": []
    },
    {
      "cell_type": "code",
      "source": [
        "def make_csv_map(file_path):\n",
        "  #csv path for mapping\n",
        "  #writing into csv\n",
        "  with open(file_path,'w') as csv_file:\n",
        "    fieldnames = ['kubernetesVersion','dependencyName-Version']\n",
        "    csv_writer = csv.DictWriter(csv_file,fieldnames=fieldnames)\n",
        "    csv_writer.writeheader()\n",
        "    for count in range(len(dependencyName)):\n",
        "        csv_writer.writerow({\n",
        "            'kubernetesVersion': versionNameList[count],\n",
        "            'dependencyName-Version': dependencyName[count] + '-' + dependencyVersion[count]\n",
        "            })"
      ],
      "metadata": {
        "id": "2tZJxnDF6U-g"
      },
      "execution_count": 4,
      "outputs": []
    },
    {
      "cell_type": "code",
      "source": [
        "def make_csv_kubeversion(file_path):\n",
        "  #csv path for kube versions\n",
        "  #writing into csv\n",
        "  with open(file_path,'w') as csv_file:\n",
        "    fieldnames = ['kubernetesVersion']\n",
        "    csv_writer = csv.DictWriter(csv_file,fieldnames=fieldnames)\n",
        "    csv_writer.writeheader()\n",
        "    for count in range(len(versionNameList)):\n",
        "      csv_writer.writerow({\n",
        "          'kubernetesVersion': versionNameList[count]\n",
        "\n",
        "          })"
      ],
      "metadata": {
        "id": "zuQwRYaO6Xcd"
      },
      "execution_count": 5,
      "outputs": []
    },
    {
      "cell_type": "code",
      "source": [
        "total_files = 0\n",
        "path ='/content/drive/MyDrive/EC528Colab/JSONsrc/Batch 2/*.*'\n",
        "for file in glob.glob(path):\n",
        "  total_files+=1\n",
        "print(total_files)"
      ],
      "metadata": {
        "colab": {
          "base_uri": "https://localhost:8080/"
        },
        "id": "EgkSqI29AK2X",
        "outputId": "0340ab8a-d613-474c-9073-3c182cbdd218"
      },
      "execution_count": 6,
      "outputs": [
        {
          "output_type": "stream",
          "name": "stdout",
          "text": [
            "119\n"
          ]
        }
      ]
    },
    {
      "cell_type": "code",
      "source": [
        "###RUN THIS TO GENERATE EMPTY\n",
        "\n",
        "# Create lists to store SPDX information\n",
        "versionName = None\n",
        "versionNameList = []\n",
        "dependencyName = []\n",
        "dependencyVersion = []\n",
        "spdxID = []"
      ],
      "metadata": {
        "id": "JMkmxyjpDlmc"
      },
      "execution_count": 7,
      "outputs": []
    },
    {
      "cell_type": "code",
      "source": [
        "###RUN THIS TO FILL LISTS\n",
        "\n",
        "path ='/content/drive/MyDrive/EC528Colab/JSONsrc/Batch 2/*.*'\n",
        "\n",
        "dependenciescsv_file_path = '/content/drive/MyDrive/EC528Colab/dependencies_entry_2.csv'\n",
        "mappingcsv_file_path = '/content/drive/MyDrive/EC528Colab/version_dependencies_mapping_2.csv'\n",
        "kubeversioncsv_file_path = '/content/drive/MyDrive/EC528Colab/version_entry_2.csv'\n",
        "\n",
        "#iterate through all files in this path\n",
        "count = 0\n",
        "for file in glob.glob(path):\n",
        "  count +=1\n",
        "  fill_lists(file)\n",
        "  if(count%10 == 0): print(count/total_files)\n",
        "  #if(count/total_files >= .5): break\n"
      ],
      "metadata": {
        "id": "uvxw4pt8TceW",
        "colab": {
          "base_uri": "https://localhost:8080/"
        },
        "outputId": "2c9427fe-b366-4141-c19f-3c8eff8740a0"
      },
      "execution_count": 8,
      "outputs": [
        {
          "output_type": "stream",
          "name": "stdout",
          "text": [
            "0.08403361344537816\n",
            "0.16806722689075632\n",
            "0.25210084033613445\n",
            "0.33613445378151263\n",
            "0.42016806722689076\n",
            "0.5042016806722689\n",
            "0.5882352941176471\n",
            "0.6722689075630253\n",
            "0.7563025210084033\n",
            "0.8403361344537815\n",
            "0.9243697478991597\n"
          ]
        }
      ]
    },
    {
      "cell_type": "code",
      "source": [
        "print(len(versionNameList))\n",
        "print(len(dependencyName))\n",
        "print(len(dependencyVersion))\n",
        "print(len(spdxID))"
      ],
      "metadata": {
        "colab": {
          "base_uri": "https://localhost:8080/"
        },
        "id": "MxuUVA_tDAFU",
        "outputId": "51e0f604-5f2b-4cc0-833c-cc3ddad88524"
      },
      "execution_count": 9,
      "outputs": [
        {
          "output_type": "stream",
          "name": "stdout",
          "text": [
            "26800\n",
            "26800\n",
            "26800\n",
            "26800\n"
          ]
        }
      ]
    },
    {
      "cell_type": "code",
      "source": [
        "#RUN THIS TO MAKE CSV\n",
        "\n",
        "make_csv_dependencies(dependenciescsv_file_path)\n",
        "make_csv_map(mappingcsv_file_path)\n",
        "make_csv_kubeversion(kubeversioncsv_file_path)\n"
      ],
      "metadata": {
        "id": "H7xQNAvjCp36"
      },
      "execution_count": 10,
      "outputs": []
    },
    {
      "cell_type": "code",
      "source": [
        "###RUN THIS TO CLEAN\n",
        "\n",
        "dependenciesDF = pd.read_csv(dependenciescsv_file_path)\n",
        "mappingDF = pd.read_csv(mappingcsv_file_path)\n",
        "kubeversionDF = pd.read_csv(kubeversioncsv_file_path)\n",
        "\n",
        "#function to clean the csv of duplicate rows\n",
        "dependenciesDF = dependenciesDF.drop_duplicates()\n",
        "mappingDF = mappingDF.drop_duplicates()\n",
        "kubeversionDF = kubeversionDF.drop_duplicates()\n",
        "\n",
        "dependenciesDF.to_csv(dependenciescsv_file_path,encoding='utf-8',index=False)\n",
        "mappingDF.to_csv(mappingcsv_file_path,encoding='utf-8',index=False)\n",
        "kubeversionDF.to_csv(kubeversioncsv_file_path,encoding='utf-8',index=False)"
      ],
      "metadata": {
        "id": "dr0sd47TY5Pz"
      },
      "execution_count": 11,
      "outputs": []
    },
    {
      "cell_type": "code",
      "source": [
        "###Situational: Run to Merge\n",
        "#load first set of csv\n",
        "path_11 = '/content/drive/MyDrive/EC528Colab/dependencies_entry_1.csv'\n",
        "path_12 = '/content/drive/MyDrive/EC528Colab/version_dependencies_mapping_1.csv'\n",
        "path_13 = '/content/drive/MyDrive/EC528Colab/version_entry_1.csv'\n",
        "\n",
        "#load second set of csv\n",
        "path_21 = '/content/drive/MyDrive/EC528Colab/dependencies_entry_2.csv'\n",
        "path_22 = '/content/drive/MyDrive/EC528Colab/version_dependencies_mapping_2.csv'\n",
        "path_23 = '/content/drive/MyDrive/EC528Colab/version_entry_2.csv'\n",
        "#merge sets of csv\n",
        "dependenciesDF = pd.concat(\n",
        "    map(pd.read_csv,[path_11,path_21]), ignore_index=True)\n",
        "mappingDF = pd.concat(\n",
        "    map(pd.read_csv,[path_12,path_22]), ignore_index=True)\n",
        "kubeversionDF = pd.concat(\n",
        "    map(pd.read_csv,[path_13,path_23]), ignore_index=True)\n",
        "#write out\n",
        "dependenciesDF.to_csv('/content/drive/MyDrive/EC528Colab/dependencies_entry.csv',encoding='utf-8',index=False)\n",
        "mappingDF.to_csv('/content/drive/MyDrive/EC528Colab/version_dependencies_mapping.csv',encoding='utf-8',index=False)\n",
        "kubeversionDF.to_csv('/content/drive/MyDrive/EC528Colab/version_entry.csv',encoding='utf-8',index=False)"
      ],
      "metadata": {
        "id": "hmi7xRlmVBHM"
      },
      "execution_count": 10,
      "outputs": []
    },
    {
      "cell_type": "code",
      "source": [],
      "metadata": {
        "id": "993P_OLPehrc"
      },
      "execution_count": 8,
      "outputs": []
    }
  ]
}