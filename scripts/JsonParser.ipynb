{
  "nbformat": 4,
  "nbformat_minor": 0,
  "metadata": {
    "colab": {
      "provenance": []
    },
    "kernelspec": {
      "name": "python3",
      "display_name": "Python 3"
    },
    "language_info": {
      "name": "python"
    }
  },
  "cells": [
    {
      "cell_type": "code",
      "execution_count": null,
      "metadata": {
        "id": "OJst4VQFmhCK"
      },
      "outputs": [],
      "source": [
        "# This is the code to parse the .spdx file for the SBOMs\n",
        "# It creates 3 .csv files\n",
        "# spdx_output.csv: Files independent of packages\n",
        "# relationships_output.csv: Relationship between differentr packages\n",
        "# packages_output.csv: Contains different packages\n",
        "\n",
        "\n",
        "import csv\n",
        "\n",
        "# Define the path to your SPDX file\n",
        "spdx_file_path = '/content/v1.29.0-alpha.1.json'  # Replace with your file path\n",
        "\n",
        "versionName = []\n",
        "\n",
        "# Create lists to store SPDX information\n",
        "versionName = []\n",
        "dependencyName = []\n",
        "dependencyVersion = []\n",
        "\n",
        "# Define a variable to track the current entry\n",
        "\n",
        "def cleanup(unwantedTerms,line):\n",
        "  for i in unwantedTerms:\n",
        "    line = line.replace(i,\"\")\n",
        "  return line\n"
      ]
    },
    {
      "cell_type": "code",
      "source": [
        "with open(spdx_file_path,'r') as spdx_file:\n",
        "    for line in spdx_file:\n",
        "      line = line.strip()\n",
        "      if line.startswith('\"name\"'):\n",
        "        line = cleanup(['\"name\"',':',',','\"','\"',' '],line)\n",
        "        if (line[0:10] == \"kubernetes\"): versionName = line\n",
        "        if (line[0:10] != \"kubernetes\" and line[0:4] != \"SBOM\"): dependencyName.append(line)\n",
        "      if line.startswith('\"versionInfo\"'):\n",
        "        line = cleanup(['\"versionInfo\"',':',',','\"','\"',' '],line)\n",
        "        if (line != \"\"):dependencyVersion.append(line)"
      ],
      "metadata": {
        "id": "vkbiWWhA6Mk9"
      },
      "execution_count": null,
      "outputs": []
    },
    {
      "cell_type": "code",
      "source": [
        "#csv path for dependencies\n",
        "dependenciescsv_file_path = '/content/drive/MyDrive/dependencies_entry.csv'\n",
        "\n",
        "#writing into csv\n",
        "with open(dependenciescsv_file_path,'w') as csv_file:\n",
        "  fieldnames = ['dependencyName','dependencyVersion']\n",
        "  csv_writer = csv.DictWriter(csv_file,fieldnames=fieldnames)\n",
        "  csv_writer.writeheader()\n",
        "  for count in range(len(dependencyName)):\n",
        "      csv_writer.writerow({\n",
        "          'dependencyName': dependencyName[count],\n",
        "          'dependencyVersion': dependencyVersion[count]\n",
        "          })"
      ],
      "metadata": {
        "id": "4A_1B3ft6RLn"
      },
      "execution_count": null,
      "outputs": []
    },
    {
      "cell_type": "code",
      "source": [
        "#csv path for mapping\n",
        "mappingcsv_file_path = '/content/drive/MyDrive/version_dependencies_mapping.csv'\n",
        "#writing into csv\n",
        "with open(mappingcsv_file_path,'w') as csv_file:\n",
        "  fieldnames = ['kubernetesVersion','dependencyName']\n",
        "  csv_writer = csv.DictWriter(csv_file,fieldnames=fieldnames)\n",
        "  csv_writer.writeheader()\n",
        "  for count in range(len(dependencyName)):\n",
        "      csv_writer.writerow({\n",
        "          'kubernetesVersion': versionName,\n",
        "          'dependencyName': dependencyName[count]\n",
        "          })"
      ],
      "metadata": {
        "id": "2tZJxnDF6U-g"
      },
      "execution_count": null,
      "outputs": []
    },
    {
      "cell_type": "code",
      "source": [
        "#csv path for kube versions\n",
        "kubeversioncsv_file_path = '/content/drive/MyDrive/version_entry.csv'\n",
        "#writing into csv\n",
        "with open(kubeversioncsv_file_path,'w') as csv_file:\n",
        "  fieldnames = ['kubernetesVersion']\n",
        "  csv_writer = csv.DictWriter(csv_file,fieldnames=fieldnames)\n",
        "  csv_writer.writeheader()\n",
        "  csv_writer.writerow({\n",
        "      'kubernetesVersion': versionName\n",
        "  })"
      ],
      "metadata": {
        "id": "zuQwRYaO6Xcd"
      },
      "execution_count": null,
      "outputs": []
    }
  ]
}