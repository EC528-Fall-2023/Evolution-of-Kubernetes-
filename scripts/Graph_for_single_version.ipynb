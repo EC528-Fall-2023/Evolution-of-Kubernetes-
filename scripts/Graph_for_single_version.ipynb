{
  "cells": [
    {
      "cell_type": "code",
      "execution_count": null,
      "metadata": {
        "id": "pqgjl55g8KS9"
      },
      "outputs": [],
      "source": [
        "pip install neo4j"
      ]
    },
    {
      "cell_type": "code",
      "execution_count": null,
      "metadata": {
        "id": "ZXBv7Ucy8zuk"
      },
      "outputs": [],
      "source": [
        "pip install pandas"
      ]
    },
    {
      "cell_type": "code",
      "execution_count": 10,
      "metadata": {
        "id": "bfu1-G9984SF"
      },
      "outputs": [],
      "source": [
        "import pandas as pd\n",
        "import os"
      ]
    },
    {
      "cell_type": "code",
      "execution_count": 3,
      "metadata": {
        "id": "5Y9q7YBH8Nmw"
      },
      "outputs": [],
      "source": [
        "from neo4j import GraphDatabase\n",
        "\n",
        "# Replace these with your actual AuraDB connection details\n",
        "uri = \"neo4j+s://b480f347.databases.neo4j.io\"\n",
        "username = \"neo4j\"\n",
        "password = \"8erltLOKbpg68_LbDjbZtsHQC-nAKV-advvPvHLdpII\"\n",
        "\n",
        "driver = GraphDatabase.driver(uri, auth=(username,password))\n"
      ]
    },
    {
      "cell_type": "code",
      "execution_count": 4,
      "metadata": {
        "id": "RvVNDBr58RJ8"
      },
      "outputs": [],
      "source": [
        "query = \"MATCH (n) RETURN COUNT(n)\"  # Query to check connection"
      ]
    },
    {
      "cell_type": "code",
      "execution_count": null,
      "metadata": {
        "id": "MiYJHn798fMB"
      },
      "outputs": [],
      "source": [
        "with driver.session() as session:\n",
        "  result = session.run(query)\n",
        "  print(result.single()[\"COUNT(n)\"])"
      ]
    },
    {
      "cell_type": "code",
      "execution_count": null,
      "metadata": {
        "id": "VK8LvJts8hCv"
      },
      "outputs": [],
      "source": [
        "from google.colab import drive  # Mounting drive to Google Colab. Ignore if not using Colab\n",
        "drive.mount('/content/drive')"
      ]
    },
    {
      "cell_type": "code",
      "execution_count": 12,
      "metadata": {
        "id": "Rq4FIaTs9L8f"
      },
      "outputs": [],
      "source": [
        "# Specify the directory path for the CSV files\n",
        "csv_dir = '/content/drive/MyDrive/Cloud Computing EC528/Parsed SBOM/v1.18.20/'  # Replace with your directory path"
      ]
    },
    {
      "cell_type": "code",
      "execution_count": 14,
      "metadata": {
        "colab": {
          "base_uri": "https://localhost:8080/"
        },
        "id": "GsHVYWSsFObD",
        "outputId": "452a1983-ec60-471a-d664-28b29d8ebbf7"
      },
      "outputs": [
        {
          "name": "stderr",
          "output_type": "stream",
          "text": [
            "<ipython-input-14-eefd2282ea75>:16: DeprecationWarning: write_transaction has been renamed to execute_write\n",
            "  session.write_transaction(create_nodes, spdx_data, 'SPDXNode', 'SPDXID')\n",
            "<ipython-input-14-eefd2282ea75>:20: DeprecationWarning: write_transaction has been renamed to execute_write\n",
            "  session.write_transaction(create_nodes, packages_data, 'PackageNode', 'SPDXID')\n"
          ]
        }
      ],
      "source": [
        "# Load the CSV files into pandas DataFrames\n",
        "packages_data = pd.read_csv(csv_dir + 'v1.18.20_packages_output.csv')\n",
        "spdx_data = pd.read_csv(csv_dir + 'v1.18.20_spdx_output.csv')\n",
        "relationships_data = pd.read_csv(csv_dir+'v1.18.20_relationships_output.csv')\n",
        "\n",
        "def create_nodes(tx, data, label, identifier_key):\n",
        "    for index, row in data.iterrows():\n",
        "        node_data = dict(row)\n",
        "        tx.run(\n",
        "            f\"CREATE (node:{label} {{{identifier_key}: $value}})\",\n",
        "            value=node_data[identifier_key]\n",
        "        )\n",
        "\n",
        "# Create nodes for SPDX data using SPDXID as the label\n",
        "with driver.session() as session:\n",
        "    session.write_transaction(create_nodes, spdx_data, 'SPDXNode', 'SPDXID')\n",
        "\n",
        "# Create nodes for packages data using SPDXID as the label\n",
        "with driver.session() as session:\n",
        "    session.write_transaction(create_nodes, packages_data, 'PackageNode', 'SPDXID')\n",
        "\n",
        "# Load and create relationships from v1.18.20_relationships_output.csv\n",
        "#relationships_data = pd.read_csv(csv_dir + 'v1.18.20_relationships_output.csv')\n",
        "\n",
        "\n",
        "with driver.session() as session:\n",
        "    for index, row in relationships_data.iterrows():\n",
        "        relationship_data = dict(row)\n",
        "        session.run(\n",
        "            \"MATCH (source {SPDXID: $source}), (target {SPDXID: $target}) \"\n",
        "            \"CREATE (source)-[:RELATIONSHIP_TYPE {type: $types}]->(target)\",\n",
        "            source=relationship_data['Source'],  #the Source/RelationshipType column in the .csv file were mislabeled and interchanged\n",
        "            target=relationship_data['Target'],\n",
        "            types=relationship_data['RelationshipType'] \n",
        "        )\n"
      ]
    },
    {
      "cell_type": "code",
      "execution_count": 15,
      "metadata": {
        "id": "X514LLIi-T_5"
      },
      "outputs": [],
      "source": [
        "# Define the folder path where your CSV files are located\n",
        "csv_folder_path = '/content/drive/MyDrive/Cloud Computing EC528/Parsed SBOM/v1.18.20'\n",
        "\n",
        "# Extract the folder name from the path\n",
        "folder_name = os.path.basename(csv_folder_path)"
      ]
    },
    {
      "cell_type": "code",
      "execution_count": 16,
      "metadata": {
        "colab": {
          "base_uri": "https://localhost:8080/"
        },
        "id": "y7xQgi_s_EmJ",
        "outputId": "3a580555-e96e-4d92-f351-8bc4949e8241"
      },
      "outputs": [
        {
          "name": "stderr",
          "output_type": "stream",
          "text": [
            "<ipython-input-16-52a84ddf99b7>:17: DeprecationWarning: write_transaction has been renamed to execute_write\n",
            "  session.write_transaction(create_folder_and_connect_nodes, folder_name)\n"
          ]
        }
      ],
      "source": [
        "# Define a function to create a folder node and connect nodes to it\n",
        "def create_folder_and_connect_nodes(tx, folder_name):\n",
        "    # Create the folder node\n",
        "    tx.run(\"CREATE (folder:Folder {name: $folder_name})\", folder_name=folder_name)\n",
        "\n",
        "    # Connect all nodes to the folder node\n",
        "    tx.run(\n",
        "        \"MATCH (node) WHERE NOT node:Folder \"\n",
        "        \"WITH node \"\n",
        "        \"MATCH (folder:Folder {name: $folder_name}) \"\n",
        "        \"CREATE (node)-[:BELONGS_TO]->(folder)\",\n",
        "        folder_name=folder_name\n",
        "    )\n",
        "\n",
        "# Execute the folder creation and connection\n",
        "with driver.session() as session:\n",
        "    session.write_transaction(create_folder_and_connect_nodes, folder_name)"
      ]
    }
  ],
  "metadata": {
    "colab": {
      "provenance": []
    },
    "kernelspec": {
      "display_name": "Python 3",
      "name": "python3"
    },
    "language_info": {
      "name": "python"
    }
  },
  "nbformat": 4,
  "nbformat_minor": 0
}
