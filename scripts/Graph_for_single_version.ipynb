{
  "nbformat": 4,
  "nbformat_minor": 0,
  "metadata": {
    "colab": {
      "provenance": []
    },
    "kernelspec": {
      "name": "python3",
      "display_name": "Python 3"
    },
    "language_info": {
      "name": "python"
    }
  },
  "cells": [
    {
      "cell_type": "code",
      "execution_count": null,
      "metadata": {
        "id": "pqgjl55g8KS9"
      },
      "outputs": [],
      "source": [
        "pip install neo4j"
      ]
    },
    {
      "cell_type": "code",
      "source": [
        "pip install pandas"
      ],
      "metadata": {
        "id": "ZXBv7Ucy8zuk"
      },
      "execution_count": null,
      "outputs": []
    },
    {
      "cell_type": "code",
      "source": [
        "import pandas as pd\n",
        "import os"
      ],
      "metadata": {
        "id": "bfu1-G9984SF"
      },
      "execution_count": 41,
      "outputs": []
    },
    {
      "cell_type": "code",
      "source": [
        "from neo4j import GraphDatabase\n",
        "\n",
        "# Replace these with your actual AuraDB connection details\n",
        "uri = \"neo4j+s://b480f347.databases.neo4j.io\"\n",
        "username = \"neo4j\"\n",
        "password = \"8erltLOKbpg68_LbDjbZtsHQC-nAKV-advvPvHLdpII\"\n",
        "\n",
        "driver = GraphDatabase.driver(uri, auth=(username,password))\n"
      ],
      "metadata": {
        "id": "5Y9q7YBH8Nmw"
      },
      "execution_count": 42,
      "outputs": []
    },
    {
      "cell_type": "code",
      "source": [
        "query = \"MATCH (n) RETURN COUNT(n)\"  # Query to check connection"
      ],
      "metadata": {
        "id": "RvVNDBr58RJ8"
      },
      "execution_count": 43,
      "outputs": []
    },
    {
      "cell_type": "code",
      "source": [
        "with driver.session() as session:\n",
        "  result = session.run(query)\n",
        "  print(result.single()[\"COUNT(n)\"])"
      ],
      "metadata": {
        "id": "MiYJHn798fMB"
      },
      "execution_count": null,
      "outputs": []
    },
    {
      "cell_type": "code",
      "source": [
        "from google.colab import drive  # Mounting drive to Google Colab. Ignore if not using Colab\n",
        "drive.mount('/content/drive')"
      ],
      "metadata": {
        "id": "VK8LvJts8hCv"
      },
      "execution_count": null,
      "outputs": []
    },
    {
      "cell_type": "code",
      "source": [
        "# Specify the directory path for the CSV files\n",
        "csv_dir = '/content/drive/MyDrive/Cloud Computing EC528/Parsed SBOM/v1.18.20/'  # Replace with your directory path"
      ],
      "metadata": {
        "id": "Rq4FIaTs9L8f"
      },
      "execution_count": 46,
      "outputs": []
    },
    {
      "cell_type": "code",
      "source": [
        "# Load the CSV files into pandas DataFrames\n",
        "packages_data = pd.read_csv(csv_dir + 'v1.18.20_packages_output.csv')\n",
        "spdx_data = pd.read_csv(csv_dir + 'v1.18.20_spdx_output.csv')\n",
        "relationships_data = pd.read_csv(csv_dir+'v1.18.20_relationships_output.csv')\n",
        "\n",
        "def create_nodes(tx, data, label, identifier_key):\n",
        "    for index, row in data.iterrows():\n",
        "        node_data = dict(row)\n",
        "        tx.run(\n",
        "            f\"CREATE (node:{label} {{{identifier_key}: $value}})\",\n",
        "            value=node_data[identifier_key]\n",
        "        )\n",
        "\n",
        "def create_nodes_packages(tx, data, label, identifier_key):\n",
        "    for index, row in data.iterrows():\n",
        "        node_data = dict(row)\n",
        "        # Create the node with properties from the CSV columns\n",
        "        query = (\n",
        "            f\"CREATE (node:{label} {{\"\n",
        "            f\"{identifier_key}: $value, \"\n",
        "            f\"SPDXID: $SPDXID, \"\n",
        "            f\"PackageName: $PackageName, \"\n",
        "            f\"PackageDownloadLocation: $PackageDownloadLocation, \"\n",
        "            f\"FilesAnalyzed: $FilesAnalyzed, \"\n",
        "            f\"PackageLicenseConcluded: $PackageLicenseConcluded, \"\n",
        "            f\"PackageLicenseDeclared: $PackageLicenseDeclared, \"\n",
        "            f\"PackageCopyrightText: $PackageCopyrightText, \"\n",
        "            f\"PackageChecksum: $PackageChecksum\"\n",
        "            # Add more properties as needed, and remove the trailing comma\n",
        "            f\"}})\"\n",
        "        )\n",
        "        tx.run(query, {\n",
        "            'value': node_data[identifier_key],\n",
        "            'SPDXID': node_data['SPDXID'],\n",
        "            'PackageName': node_data['PackageName'],\n",
        "            'PackageDownloadLocation': node_data['PackageDownloadLocation'],\n",
        "            'FilesAnalyzed': node_data['FilesAnalyzed'],\n",
        "            'PackageLicenseConcluded': node_data['PackageLicenseConcluded'],\n",
        "            'PackageLicenseDeclared': node_data['PackageLicenseDeclared'],\n",
        "            'PackageCopyrightText': node_data['PackageCopyrightText'],\n",
        "            'PackageChecksum': node_data['PackageChecksum']\n",
        "            # Add more property values as needed\n",
        "        })\n",
        "\n",
        "def create_nodes_spdx(tx, data, label, identifier_key):\n",
        "    for index, row in data.iterrows():\n",
        "        node_data = dict(row)\n",
        "        # Create the node with properties from the CSV columns\n",
        "        query = (\n",
        "            f\"CREATE (node:{label} {{\"\n",
        "            f\"{identifier_key}: $value, \"\n",
        "            f\"SPDXID: $SPDXID, \"\n",
        "            f\"FileName: $FileName, \"\n",
        "            f\"FileChecksum: $FileChecksum, \"\n",
        "            f\"LicenseConcluded: $LicenseConcluded, \"\n",
        "            f\"LicenseInfoInFile: $LicenseInfoInFile, \"\n",
        "            f\"FileCopyrightText: $FileCopyrightText\"\n",
        "            # Add more properties as needed, and remove the trailing comma\n",
        "            f\"}})\"\n",
        "        )\n",
        "        tx.run(query, {\n",
        "            'value': node_data[identifier_key],\n",
        "            'SPDXID': node_data['SPDXID'],\n",
        "            'FileName': node_data['FileName'],\n",
        "            'FileChecksum': node_data['FileChecksum'],\n",
        "            'LicenseConcluded': node_data['LicenseConcluded'],\n",
        "            'LicenseInfoInFile': node_data['LicenseInfoInFile'],\n",
        "            'FileCopyrightText': node_data['FileCopyrightText']\n",
        "            # Add more property values as needed\n",
        "        })\n",
        "\n",
        "\n",
        "\n",
        "# Create nodes for SPDX data using SPDXID as the label\n",
        "with driver.session() as session:\n",
        "    session.write_transaction(create_nodes_spdx, spdx_data, 'SPDXNode', 'SPDXID')\n",
        "\n",
        "# Create nodes for packages data using SPDXID as the label\n",
        "with driver.session() as session:\n",
        "    session.write_transaction(create_nodes_packages, packages_data, 'PackageNode', 'SPDXID')\n",
        "\n",
        "# Create Relationships\n",
        "with driver.session() as session:\n",
        "    for index, row in relationships_data.iterrows():\n",
        "        relationship_data = dict(row)\n",
        "        session.run(\n",
        "            \"MATCH (source {SPDXID: $source}), (target {SPDXID: $target}) \"\n",
        "            \"CREATE (source)-[:RELATIONSHIP_TYPE {type: $types}]->(target)\",\n",
        "            source=relationship_data['RelationshipType'],  #the Source/RelationshipType column in the .csv file were mislabeled and interchanged\n",
        "            target=relationship_data['Target'],\n",
        "            types=relationship_data['Source']\n",
        "        )\n"
      ],
      "metadata": {
        "colab": {
          "base_uri": "https://localhost:8080/"
        },
        "outputId": "2945bfb4-2742-40f5-a072-deef4de762a4",
        "id": "m2QfvS7DPHn4"
      },
      "execution_count": 47,
      "outputs": [
        {
          "output_type": "stream",
          "name": "stderr",
          "text": [
            "<ipython-input-47-97aa7e077513>:76: DeprecationWarning: write_transaction has been renamed to execute_write\n",
            "  session.write_transaction(create_nodes_spdx, spdx_data, 'SPDXNode', 'SPDXID')\n",
            "<ipython-input-47-97aa7e077513>:80: DeprecationWarning: write_transaction has been renamed to execute_write\n",
            "  session.write_transaction(create_nodes_packages, packages_data, 'PackageNode', 'SPDXID')\n"
          ]
        }
      ]
    },
    {
      "cell_type": "code",
      "source": [
        "# Define the folder path where your CSV files are located\n",
        "csv_folder_path = '/content/drive/MyDrive/Cloud Computing EC528/Parsed SBOM/v1.18.20'\n",
        "\n",
        "# Extract the folder name from the path\n",
        "folder_name = os.path.basename(csv_folder_path)"
      ],
      "metadata": {
        "id": "X514LLIi-T_5"
      },
      "execution_count": 48,
      "outputs": []
    },
    {
      "cell_type": "code",
      "source": [
        "# Define a function to create a folder node and connect nodes to it\n",
        "def create_folder_and_connect_nodes(tx, folder_name):\n",
        "    # Create the folder node\n",
        "    tx.run(\"CREATE (folder:Folder {name: $folder_name})\", folder_name=folder_name)\n",
        "\n",
        "    # Connect all nodes to the folder node\n",
        "    tx.run(\n",
        "        \"MATCH (node) WHERE NOT node:Folder \"\n",
        "        \"WITH node \"\n",
        "        \"MATCH (folder:Folder {name: $folder_name}) \"\n",
        "        \"CREATE (node)-[:BELONGS_TO]->(folder)\",\n",
        "        folder_name=folder_name\n",
        "    )\n",
        "\n",
        "# Execute the folder creation and connection\n",
        "with driver.session() as session:\n",
        "    session.write_transaction(create_folder_and_connect_nodes, folder_name)"
      ],
      "metadata": {
        "colab": {
          "base_uri": "https://localhost:8080/"
        },
        "id": "y7xQgi_s_EmJ",
        "outputId": "7f6ee630-a5a3-4b71-bcdd-5f7600b91bbf"
      },
      "execution_count": 49,
      "outputs": [
        {
          "output_type": "stream",
          "name": "stderr",
          "text": [
            "<ipython-input-49-52a84ddf99b7>:17: DeprecationWarning: write_transaction has been renamed to execute_write\n",
            "  session.write_transaction(create_folder_and_connect_nodes, folder_name)\n"
          ]
        }
      ]
    }
  ]
}